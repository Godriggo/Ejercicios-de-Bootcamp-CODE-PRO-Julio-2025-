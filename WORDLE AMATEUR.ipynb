clave = "FIRST"
palabra_clave = clave.upper()
espacios = len(list(clave))
intentos = 5 
intentos_restantes = intentos
historial_resultados = []

def inicio_del_juego():
    
    print("Hola!\n")
    print("En este juego debes adivinar una palabra.\n\n")
    print("Ten en cuenta:")
    print(f"La palabra tiene {espacios} letras.")
    print("Si ingresas una palabra mas corta o mas larga, pierdes 1 intento.")
    print("Cuando aciertas 1 letra en su posicion exacta, aparece entre [ ]")
    print("Si ingresas 1 letra pero se encuentra en otra posicion, aparece entre ( )\n\n")
    print(f"Tienes {intentos} intentos.\n")
    print("Empecemos!\n\n\n")

def verificar_letras(palabra_clave, palabra_usuario):
    resultado = []

    for posicion in range(espacios):
        letra = palabra_usuario[posicion]

        if palabra_clave[posicion] == letra:
            
            resultado.append(f"[{letra}]")
        
        elif letra in palabra_clave:

            resultado.append(f"({letra})")

        else:
            resultado.append(letra)
    
    return resultado

def imprimir_historial():
    print("=== Tus intentos: ===")
    for resultado in historial_resultados:
        
        print(" ".join(resultado))
    
    for i in range(intentos_restantes):
        print("| |" * espacios)
        print()

inicio_del_juego()

while intentos > 0: 
     palabra_usuario = input(f"Ingrese una palabra de {espacios} letras: ").upper() 

     if len(palabra_usuario) != espacios:  
         print(f"\nLa palabra ingresada debe tener exactamente {espacios} letras!\n")
         
         historial_resultados.append(["X"] * espacios)

         intentos_restantes -= 1

         print(f"Te quedan {intentos_restantes} intentos!\n")

         imprimir_historial()

         continue                         
     
     
     if palabra_usuario == palabra_clave:
         
         resultado = [f"({letra})" for letra in palabra_usuario]
         historial_resultados.append(resultado)

         imprimir_historial()
         print("Felicidades! Ganaste!")      
         break                      

     
     resultado = verificar_letras(palabra_clave, palabra_usuario)
     historial_resultados.append(resultado)
     intentos_restantes -= 1

     imprimir_historial()
     print(f"Te quedan {intentos_restantes} intentos!\n\n")
     
     
     if intentos_restantes == 0:

         print("Ya no quedan intentos :/")
         print("La palabra era:", clave)
         break
