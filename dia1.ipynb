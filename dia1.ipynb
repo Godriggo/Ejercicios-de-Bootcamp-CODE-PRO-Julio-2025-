{
 "cells": [
  {
   "cell_type": "code",
   "execution_count": null,
   "id": "ad602250",
   "metadata": {},
   "outputs": [
    {
     "name": "stdout",
     "output_type": "stream",
     "text": [
      "EJERCICIO #1\n",
      "\n",
      "Nombre:  Rodrigo , edad:  31 , ciudad: Asuncion\n"
     ]
    }
   ],
   "source": [
    "#EJERCICIO 1\n",
    "#crear variables para nombre, edad y ciudad, imprimir todo en una linea\n",
    "\n",
    "nombre = \"Rodrigo\"\n",
    "edad = 31\n",
    "ciudad = \"Asuncion\"\n",
    "\n",
    "print(\"EJERCICIO #1\\n\")\n",
    "\n",
    "print(\"Nombre: \", nombre, \", edad: \", edad, \", ciudad:\", ciudad)"
   ]
  },
  {
   "cell_type": "code",
   "execution_count": null,
   "id": "9431bda5",
   "metadata": {},
   "outputs": [
    {
     "name": "stdout",
     "output_type": "stream",
     "text": [
      "EJERCICIO #2 \n",
      "\n",
      "La cantidad de frutas es 50\n",
      "Las cantidad de frutas restantes es 42\n"
     ]
    }
   ],
   "source": [
    "#EJERCICIO 2\n",
    "#Suma: asignar dos números en dos variables diferentes cantidad_de_manzanas y cantidad_de_naranjas. Luego sumar ambas variables en cantidad_de_frutas. Imprimir la última variable.\n",
    "#Resta: asignar un valor numérico a la variable frutas_vendidas. Luego, asignar la resta entre cantidad_de_frutas y frutas_vendidas a la variable frutas_restantes. Imprimir la última variable.\n",
    "\n",
    "cantidad_de_manzanas = 20\n",
    "cantidad_de_naranjas = 30\n",
    "frutas_vendidas = 8\n",
    "cantidad_de_frutas = cantidad_de_manzanas + cantidad_de_naranjas\n",
    "frutas_restantes = cantidad_de_frutas - frutas_vendidas\n",
    "\n",
    "print(\"EJERCICIO #2 \\n\")\n",
    "\n",
    "print(\"La cantidad de frutas es\", cantidad_de_frutas)\n",
    "\n",
    "print(\"Las cantidad de frutas restantes es\", frutas_restantes)"
   ]
  },
  {
   "cell_type": "code",
   "execution_count": null,
   "id": "acfec0d7",
   "metadata": {},
   "outputs": [
    {
     "name": "stdout",
     "output_type": "stream",
     "text": [
      "EJERCICIO #3\n",
      "\n",
      "Hola, me llamo Carlos y soy de la familia de los Lopez. Un gusto conocerlos.\n",
      "\n",
      "\n"
     ]
    }
   ],
   "source": [
    "#EJERCICIO 3\n",
    "#Asignar el nombre y el apellido de tu compañera/o a las variables nombre y apellido. Luego, imprimir una frase, utilizando las variables.\n",
    "#EJEMPLO: \"Hola. Me llamo Claudia Melgarejo. Mucho gusto.\"\n",
    "\n",
    "nombre = \"Carlos\"\n",
    "apellido = \"Lopez\"\n",
    "\n",
    "print(\"EJERCICIO #3\\n\")\n",
    "\n",
    "print(f\"Hola, me llamo {nombre} y soy de la familia de los {apellido}. Un gusto conocerlos.\\n\\n\")\n"
   ]
  },
  {
   "cell_type": "code",
   "execution_count": null,
   "id": "83b2f0f7",
   "metadata": {},
   "outputs": [],
   "source": [
    "#EJERCICIO 4\n",
    "#Solicitar al usuario ingresar dos números y almacenarlos en dos variables. Luego, imprimir la suma de los dos números.\n",
    "\n",
    "numero1 = int(input(\"Ingrese el primer numero\"))\n",
    "numero2 = int(input(\"Ingrese el primer numero\"))\n",
    "suma = numero1 + numero2\n",
    "\n",
    "print(\"Ejercicio #3\\n\")\n",
    "\n",
    "print(\"La suma de ambos numeros es:\", suma)"
   ]
  },
  {
   "cell_type": "code",
   "execution_count": null,
   "id": "ab216d1b",
   "metadata": {},
   "outputs": [],
   "source": [
    "#EJERCICIO 5\n",
    "#Crear una función de un proceso que se les ocurra que tenga varios pasos.\n",
    "#Ejecutar la función 3 veces.\n",
    "\n",
    "def seleccionar_menu():\n",
    "\n",
    "    menu1 = 1 \n",
    "    descripcion_menu1 = \"Hamburguesa con papas y gaseosa\"\n",
    "    menu2 = 2\n",
    "    descripcion_menu2 = \"Pizza y 1 copa de vino\"\n",
    "    menu3 = 3\n",
    "    descripcion_menu3 = \"Milanesa a la napolitana y jugo de limon\"\n",
    "    menu4 = 4\n",
    "    descripcion_menu4 = \"Asado con sopa y 1 chopp\"\n",
    "    \n",
    "    print(\"=== BIENVENIDO AL RESTAURANTE ===\")\n",
    "    print(f\"1. {descripcion_menu1}\")\n",
    "    print(f\"2. {descripcion_menu2}\")\n",
    "    print(f\"3. {descripcion_menu3}\")\n",
    "    print(f\"4. {descripcion_menu4}\")\n",
    "    print(\"\\nElija una opcion\\n\")\n",
    "\n",
    "    menu = int(input(\"Seleccione la opcion de su preferencia:\"))\n",
    "    \n",
    "    if menu == menu1:\n",
    "        print(f\"Su opcion fue: {descripcion_menu1}. Buen provecho!\")\n",
    "    elif menu == menu2:\n",
    "        print(f\"Su opcion fue: {descripcion_menu2}. Buen provecho!\")\n",
    "    elif menu == menu3:\n",
    "        print(f\"Su opcion fue: {descripcion_menu3}. Buen provecho!\")\n",
    "    elif menu == menu4:\n",
    "        print(f\"Su opcion fue: {descripcion_menu4}. Buen provecho!\")\n",
    "    else:\n",
    "        print(\"Por favor, seleccione una opcion valida.\")\n",
    "        seleccionar_menu()\n",
    "seleccionar_menu()\n",
    "seleccionar_menu()\n",
    "seleccionar_menu()\n",
    "\n"
   ]
  },
  {
   "cell_type": "code",
   "execution_count": null,
   "id": "b3773a4a",
   "metadata": {},
   "outputs": [],
   "source": [
    "#EJERCICIO 6\n",
    "#Escribir una funcion que nos pregunte las caracteristicas de un elemento a comprar e imprima el elemento con sus caracteristicas.\n",
    "\n",
    "\n",
    "def celular(ram_usuario, camara_usuario, almacenamiento_usuario):\n",
    "\n",
    "    print(f\"Capacidad RAM: {ram_usuario}\")\n",
    "    print(f\"Capacidad de la camara: {camara_usuario}\")\n",
    "    print(f\"Almacenamiento: {almacenamiento_usuario}\")\n",
    "\n",
    "ram_usuario = input(\"Cual es la capacidad de RAM que mejor se adapta a tus necesidades?\")\n",
    "camara_usuario = input(\"La camara, que capacidad debe tener?\")\n",
    "almacenamiento_usuario = input(\"Por ultimo, cuanto almacenamiento necesitas?\")\n",
    "\n",
    "\n",
    "celular(ram_usuario, camara_usuario, almacenamiento_usuario)\n"
   ]
  }
 ],
 "metadata": {
  "kernelspec": {
   "display_name": ".venv",
   "language": "python",
   "name": "python3"
  },
  "language_info": {
   "codemirror_mode": {
    "name": "ipython",
    "version": 3
   },
   "file_extension": ".py",
   "mimetype": "text/x-python",
   "name": "python",
   "nbconvert_exporter": "python",
   "pygments_lexer": "ipython3",
   "version": "3.12.3"
  }
 },
 "nbformat": 4,
 "nbformat_minor": 5
}
