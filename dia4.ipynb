{
 "cells": [
  {
   "cell_type": "code",
   "execution_count": 59,
   "id": "7818a5e7",
   "metadata": {},
   "outputs": [
    {
     "name": "stdout",
     "output_type": "stream",
     "text": [
      "mamifero\n",
      "Hola, me llamo Lobo y soy un mamifero gris de 6 anhos de edad.\n",
      "Hola, yo me llamo Eagle y soy un ave marron de 3 anhos de edad.\n",
      "Hola. Mi nombre es Mario. Soy un reptil de color verde y tengo 15 anhos.\n",
      "Hola, mi nombre es Perro y soy un gato, es decir, soy un mamifero. Aparte, soy naranja y tengo 2 anhos\n"
     ]
    }
   ],
   "source": [
    "#EJERCICIO #1\n",
    "# Crear una clase animales que tenga atributo de clase y de instancia.\n",
    "# Atributos de clase: especie.\n",
    "# Atributos de instancia: nombre & color\n",
    "# Luego, crear nuevos objetos a partir de las nuevas class. Imprimir el nombre y el color de los animales en una frase.\n",
    "# Ejemplo: \"Me llamo {nombre} y soy un ave de color {color}\".\n",
    "\n",
    "class Animales:\n",
    "    especie = \"mamifero\"\n",
    "\n",
    "    def __init__(self, nombre, color, edad, especie):\n",
    "        self.nombre = nombre\n",
    "        self.color = color\n",
    "        self.edad = edad\n",
    "        self.especie = especie\n",
    "    \n",
    "    \n",
    "perro = Animales(\"Lobo\", \"gris\", 6, \"mamifero\")\n",
    "ave = Animales(\"Eagle\", \"marron\", 3, \"ave\")\n",
    "reptil = Animales(\"Mario\", \"verde\", 15, \"reptil\")\n",
    "gato = Animales(\"Perro\", \"naranja\", 2, \"mamifero\")\n",
    "\n",
    "print(Animales.especie)\n",
    "\n",
    "print(f\"Hola, me llamo {perro.nombre} y soy un {perro.especie} {perro.color} de {perro.edad} anhos de edad.\")\n",
    "print(f\"Hola, yo me llamo {ave.nombre} y soy un {ave.especie} {ave.color} de {ave.edad} anhos de edad.\")\n",
    "print(f\"Hola. Mi nombre es {reptil.nombre}. Soy un {reptil.especie} de color {reptil.color} y tengo {reptil.edad} anhos.\")\n",
    "print(f\"Hola, mi nombre es {gato.nombre} y soy un gato, es decir, soy un {gato.especie}. Aparte, soy {gato.color} y tengo {gato.edad} anhos\")\n",
    "\n",
    " "
   ]
  },
  {
   "cell_type": "markdown",
   "id": "cec2bd27",
   "metadata": {},
   "source": [
    "Crear dos metodos para nuestro animal y ejecutar, debe ser algo especifico de ese animal.\n",
    "Ejemplo: Cuando hablo, digo X\n",
    "Ejemplo: Cuando me muevo, hago X"
   ]
  },
  {
   "cell_type": "code",
   "execution_count": 57,
   "id": "28539f72",
   "metadata": {},
   "outputs": [
    {
     "name": "stdout",
     "output_type": "stream",
     "text": [
      "Cuando Toby ladra, dice Guau! Guau!!\n",
      "Cuando Toby grunhe, dice Grrrrrrrrr\n",
      "Cuando Cuellin vuela, intenta pero no puede\n",
      "Cuando se cansa procede a posarse sobre algo\n",
      "Cuando esta comodo, anida y pone huevo\n"
     ]
    }
   ],
   "source": [
    "class Perro:\n",
    "    tipo = \"animal\"\n",
    "\n",
    "    def __init__(self, nombre):\n",
    "        self.nombre = nombre\n",
    "    \n",
    "    def bark(self,  ladrar):\n",
    "        print(f\"Cuando {self.nombre} ladra, dice {ladrar}!\")\n",
    "\n",
    "    def grunhir(self, grunhir):\n",
    "        self.grunhir = grunhir\n",
    "        print(f\"Cuando {self.nombre} grunhe, dice {self.grunhir}\")\n",
    "\n",
    "\n",
    "perro = Perro(\"Toby\")\n",
    "\n",
    "perro.bark(\"Guau! Guau!\")\n",
    "perro.grunhir(\"Grrrrrrrrr\")\n",
    "\n",
    "\n",
    "#ejemplo 2\n",
    "\n",
    "class Ave:\n",
    "    tipo = \"ave\"\n",
    "\n",
    "    def __init__(self, nombre):\n",
    "        self.nombre = nombre\n",
    "    \n",
    "    def moverse(self, volar):\n",
    "        self.volar = volar\n",
    "        print(f\"Cuando {self.nombre} vuela, intenta pero {self.volar}\")\n",
    "    \n",
    "    def posarse(self):\n",
    "        posar = \"posarse sobre algo\"\n",
    "        print(f\"Cuando se cansa procede a {posar}\")\n",
    "\n",
    "    def reproducirse(self):\n",
    "        poner_huevo = \"anida y pone huevo\" \n",
    "        print(f\"Cuando esta comodo, {poner_huevo}\")\n",
    "    \n",
    "avestruz = Ave(\"Cuellin\")\n",
    "\n",
    "avestruz.moverse(\"no puede\")\n",
    "avestruz.posarse()\n",
    "avestruz.reproducirse()\n",
    "\n"
   ]
  },
  {
   "cell_type": "markdown",
   "id": "943e08d6",
   "metadata": {},
   "source": [
    "Definir una clase madre que herede a sus clases hijas dos atributos de instancia. Mostrar ambos atributos en pantalla desde los objetos de las clases hijas.\n",
    "\n",
    "Observación: Editar las clases hijas para que no se inicialicen.    "
   ]
  },
  {
   "cell_type": "code",
   "execution_count": 55,
   "id": "5ba72888",
   "metadata": {},
   "outputs": [
    {
     "name": "stdout",
     "output_type": "stream",
     "text": [
      "Karting es un deporte emocionante para los fanaticos del Automovilismo que se compite solo y como equipo.\n",
      "Podriamos decir que el Karting es una actividad mas bien fisica\n",
      "En cambio, el Ajedrez es un juego de tablero que se juega 1 vs 1\n",
      "Podriamos decir que el Ajedrez es una actividad mental\n"
     ]
    }
   ],
   "source": [
    "class Actividad:\n",
    "    tipo = \"actividades fisicas o mentales\"\n",
    "\n",
    "    def __init__(self, nombre, estilo, modalidad):\n",
    "        self.nombre = nombre\n",
    "        self.estilo = estilo\n",
    "        self. modalidad = modalidad\n",
    "\n",
    "    \n",
    "class Deporte(Actividad):\n",
    "    tipo = \"actividad mas bien fisica\"\n",
    "\n",
    "class Desafio(Actividad):\n",
    "    tipo = \"actividad mental\"\n",
    "\n",
    "deporte1 = Deporte(\"Karting\", \"Automovilismo\", \"solo y como equipo\")\n",
    "\n",
    "deporte2 = Desafio(\"Ajedrez\", \"juego de tablero\", \"1 vs 1\")\n",
    "\n",
    "print(f\"{deporte1.nombre} es un deporte emocionante para los fanaticos del {deporte1.estilo} que se compite {deporte1.modalidad}.\")\n",
    "print(f\"Podriamos decir que el {deporte1.nombre} es una {Deporte.tipo}\")\n",
    "print(f\"En cambio, el {deporte2.nombre} es un {deporte2.estilo} que se juega {deporte2.modalidad}\")\n",
    "print(f\"Podriamos decir que el {deporte2.nombre} es una {Desafio.tipo}\")\n",
    "    "
   ]
  },
  {
   "cell_type": "markdown",
   "id": "44b7852b",
   "metadata": {},
   "source": [
    "Escribir un programa que cree un diccionario vacío y lo vaya llenado con información sobre una persona (por ejemplo nombre, edad, sexo, teléfono, correo electrónico, etc.) que se le pida al usuario. \n",
    "\n",
    "Cada vez que se añada un nuevo dato debe imprimirse el contenido del diccionario."
   ]
  },
  {
   "cell_type": "code",
   "execution_count": null,
   "id": "624d70ba",
   "metadata": {},
   "outputs": [],
   "source": [
    "#VERSION 1\n",
    "\n",
    "datos_personales = {}\n",
    "print(f\"Datos personales = {datos_personales}\")\n",
    "\n",
    "\n",
    "datos_personales[\"nombre\"] = input(\"Ingrese su nombre: \")\n",
    "print(f\"Datos personales = {datos_personales}\")\n",
    "\n",
    "datos_personales[\"edad\"] = int(input(\"Ingrese su edad: \"))\n",
    "print(f\"Datos personales = {datos_personales}\")\n",
    "\n",
    "datos_personales[\"sexo\"] = input(\"Ingrese su sexo, M para Masculino y F para Femenino: \")\n",
    "print(f\"Datos personales = {datos_personales}\")\n",
    "\n",
    "datos_personales[\"telefono\"] = int(input(\"Ingrese su numero de celular sin el cero\"))\n",
    "print(f\"Datos personales = {datos_personales}\")\n",
    "\n",
    "datos_personales[\"correo\"] = input(\"Ingrese su correo electronico: \")\n",
    "print(f\"Datos personales = {datos_personales}\")\n",
    "\n"
   ]
  },
  {
   "cell_type": "code",
   "execution_count": null,
   "id": "643d3c7b",
   "metadata": {},
   "outputs": [
    {
     "name": "stdout",
     "output_type": "stream",
     "text": [
      "Datos personales = {}\n",
      "Datos personales = {'nombre': ''}\n"
     ]
    },
    {
     "ename": "ValueError",
     "evalue": "invalid literal for int() with base 10: ''",
     "output_type": "error",
     "traceback": [
      "\u001b[31m---------------------------------------------------------------------------\u001b[39m",
      "\u001b[31mValueError\u001b[39m                                Traceback (most recent call last)",
      "\u001b[36mCell\u001b[39m\u001b[36m \u001b[39m\u001b[32mIn[106]\u001b[39m\u001b[32m, line 13\u001b[39m\n\u001b[32m     10\u001b[39m datos_personales[\u001b[33m\"\u001b[39m\u001b[33mnombre\u001b[39m\u001b[33m\"\u001b[39m] = \u001b[38;5;28minput\u001b[39m(\u001b[33m\"\u001b[39m\u001b[33mIngrese su nombre: \u001b[39m\u001b[33m\"\u001b[39m)\n\u001b[32m     11\u001b[39m \u001b[38;5;28mprint\u001b[39m(\u001b[33mf\u001b[39m\u001b[33m\"\u001b[39m\u001b[33mDatos personales = \u001b[39m\u001b[38;5;132;01m{\u001b[39;00mdatos_personales\u001b[38;5;132;01m}\u001b[39;00m\u001b[33m\"\u001b[39m)\n\u001b[32m---> \u001b[39m\u001b[32m13\u001b[39m datos_personales[\u001b[33m\"\u001b[39m\u001b[33medad\u001b[39m\u001b[33m\"\u001b[39m] = \u001b[38;5;28;43mint\u001b[39;49m\u001b[43m(\u001b[49m\u001b[38;5;28;43minput\u001b[39;49m\u001b[43m(\u001b[49m\u001b[33;43m\"\u001b[39;49m\u001b[33;43mIngrese su edad: \u001b[39;49m\u001b[33;43m\"\u001b[39;49m\u001b[43m)\u001b[49m\u001b[43m)\u001b[49m\n\u001b[32m     14\u001b[39m \u001b[38;5;28mprint\u001b[39m(\u001b[33mf\u001b[39m\u001b[33m\"\u001b[39m\u001b[33mDatos personales = \u001b[39m\u001b[38;5;132;01m{\u001b[39;00mdatos_personales\u001b[38;5;132;01m}\u001b[39;00m\u001b[33m\"\u001b[39m)\n\u001b[32m     16\u001b[39m datos_personales[\u001b[33m\"\u001b[39m\u001b[33msexo\u001b[39m\u001b[33m\"\u001b[39m] = \u001b[38;5;28minput\u001b[39m(\u001b[33m\"\u001b[39m\u001b[33mIngrese su sexo, M para Masculino y F para Femenino: \u001b[39m\u001b[33m\"\u001b[39m)\n",
      "\u001b[31mValueError\u001b[39m: invalid literal for int() with base 10: ''"
     ]
    }
   ],
   "source": [
    "#VERSION 2\n",
    "\n",
    "datos_personales = {}\n",
    "datos = [\"nombre\", \"edad\", \"sexo\", \"telefono\", \"correo\"]\n",
    "\n",
    "for campo in datos:\n",
    "    valor = input(f\"Ingrese su {datos}, o escriba Out para terminar: \")\n",
    "\n",
    "print(f\"Datos personales = {datos_personales}\")\n",
    "datos_personales[\"nombre\"] = input(\"Ingrese su nombre: \")\n",
    "print(f\"Datos personales = {datos_personales}\")\n",
    "\n",
    "datos_personales[\"edad\"] = int(input(\"Ingrese su edad: \"))\n",
    "print(f\"Datos personales = {datos_personales}\")\n",
    "\n",
    "datos_personales[\"sexo\"] = input(\"Ingrese su sexo, M para Masculino y F para Femenino: \")\n",
    "print(f\"Datos personales = {datos_personales}\")\n",
    "\n",
    "datos_personales[\"telefono\"] = int(input(\"Ingrese su numero de celular sin el cero\"))\n",
    "print(f\"Datos personales = {datos_personales}\")\n",
    "\n",
    "datos_personales[\"correo\"] = input(\"Ingrese su correo electronico: \")\n",
    "print(f\"Datos personales = {datos_personales}\")"
   ]
  },
  {
   "cell_type": "markdown",
   "id": "a1ddbfe8",
   "metadata": {},
   "source": [
    "Crear una tarjeta personal. El usuario (mediante input) puede elegir:\n",
    "\n",
    "Crear datos nuevos\n",
    "Modificar datos\n",
    "Eliminar datos"
   ]
  },
  {
   "cell_type": "code",
   "execution_count": null,
   "id": "7e1c6140",
   "metadata": {},
   "outputs": [],
   "source": [
    "#1. Crear diccionario llamado tarjeta\n",
    "#2, habilitar creacion, modificacion o eliminacion de datos"
   ]
  },
  {
   "cell_type": "code",
   "execution_count": null,
   "id": "06d3fe31",
   "metadata": {},
   "outputs": [
    {
     "name": "stdout",
     "output_type": "stream",
     "text": [
      "Que desea hacer?\n",
      "1. Ver la tarjeta\n",
      "2. Crear nueva entrada\n",
      "3. Modificar algun dato\n",
      "4. Eliminar algun dato\n",
      "5. Salir\n",
      "\n",
      "\n",
      "Que desea hacer?\n",
      "1. Ver la tarjeta\n",
      "2. Crear nueva entrada\n",
      "3. Modificar algun dato\n",
      "4. Eliminar algun dato\n",
      "5. Salir\n",
      "\n",
      "\n",
      "Programa finalizado.\n",
      "{'nombre,': 'rod', 'apellido': 'esc', 'profesion': 'mecha', 'telefono': 'tretre', 'Empresa': 'Penguin'}\n"
     ]
    }
   ],
   "source": [
    "#tarjeta_personal = {\"Nombre\":\"\", \"Apellido\":\"\", \"Profesion\":\"\", \"Empresa\":\"\", \"Telefono\":\"\", \"Email\":\"\"}\n",
    "\n",
    "# tarjeta_personal[\"Nombre\"] = input(f\"Ingrese su nombre: \")\n",
    "# tarjeta_personal[\"Apellido\"] = input(f\"Ingrese su apellido: \")\n",
    "# tarjeta_personal[\"Profesion\"] = input(f\"Ingrese su profesion: \")\n",
    "# tarjeta_personal[\"Empresa\"] = input(\"Ingrese su empresa: \")\n",
    "# tarjeta_personal[\"Telefono\"] = input(f\"Ingrese su telefono: \")\n",
    "# tarjeta_personal[\"Email\"] = input(f\"Ingrese su email: \")\n",
    "\n",
    "############\n",
    "\n",
    "#PSEUDO\n",
    "# 1. inicializar el diccionario vacio llamado tarjeta_personal\n",
    "# 2. PARA cada campo en [nombre, apellido, profesion, telefono]\n",
    "#     PEDIR al usuario que ingrese el valor\n",
    "#     GUARDAR el valor en el diccionario bajo esa llave\n",
    "\n",
    "# MIENTRAS el programa este ACTIVO:\n",
    "#     MOSTRAR opciones [ver, modificar, eliminar, salir]\n",
    "#     PEDIR al usuario que elija una opcion\n",
    "#         SI  elige VER:\n",
    "#             MOSTRAR todo el contenido del diccionario\n",
    "\n",
    "#         SI elige MODIFICAR:\n",
    "#             PEDIR la clave a MODIFICAR\n",
    "#             SI la clave existe;\n",
    "#                 PEDIR nuevo VALOR\n",
    "#                 ACTUALIZAR el VALOR en el diccionario\n",
    "#         SI elige ELIMINAR:\n",
    "#             PEDIR la CLAVE a eliminar\n",
    "#             SI la clave existe:\n",
    "#                 BORRAR esa clave del diccionario\n",
    "#         SI elige SALIR:\n",
    "#             TERMINAR el programa\n",
    "\n",
    "tarjeta_personal = {}\n",
    "campos = [\"nombre,\", \"apellido\", \"profesion\", \"telefono\"]\n",
    "\n",
    "for campo in campos:\n",
    "    valor = input(f\"Ingrese el dato para {campo}\")\n",
    "    tarjeta_personal[campo] = valor\n",
    "\n",
    "while True:\n",
    "    print(\"Que desea hacer?\")\n",
    "    print(\"1. Ver la tarjeta\")\n",
    "    print(\"2. Crear nueva entrada\")\n",
    "    print(\"3. Modificar algun dato\")\n",
    "    print(\"4. Eliminar algun dato\")\n",
    "    print(\"5. Salir\\n\\n\")\n",
    "\n",
    "    opcion = input(\"Seleccione una opcion (1-5): \")\n",
    "\n",
    "\n",
    "    if opcion == \"1\":\n",
    "\n",
    "        print(\"=== TARJETA PERSONAL ===\")\n",
    "\n",
    "        for clave, valor in tarjeta_personal.items(): # indica al programa recorrer 2 ITERADORES\n",
    "            print(f\"{clave.capitalize()}: {valor}\") # Capitaliza cada clave, imprime un : imprime su valor\n",
    "\n",
    "        \n",
    "    elif opcion == \"2\":\n",
    "        clave_creada = input(\"Ingrese la nueva entrada: \")\n",
    "        valor_creado = input(\"Ingrese el nuevo dato: \")\n",
    "        tarjeta_personal[clave_creada] = valor_creado\n",
    "\n",
    "\n",
    "    elif opcion == \"3\":\n",
    "        \n",
    "        clave = input(\"Que entrada desea modificar?\").lower()\n",
    "        \n",
    "        if clave in tarjeta_personal:\n",
    "            nuevo_valor = input(f\"Ingrese el nuevo dato para {clave}: \")\n",
    "            tarjeta_personal[clave] = nuevo_valor\n",
    "\n",
    "        else: \n",
    "            print(\"Esa entrada no existe en la tarjeta\")\n",
    "\n",
    "\n",
    "    elif opcion == \"4\":\n",
    "        \n",
    "        clave = input(\"Que entrada desea eliminar?\")\n",
    "\n",
    "        if clave in tarjeta_personal:\n",
    "            del tarjeta_personal[clave]\n",
    "            print(f\"La entrada {clave} fue eliminada exitosamente\")\n",
    "        \n",
    "        else: \n",
    "            print(\"Esa entrada no existe en la tarjeta\")\n",
    "\n",
    "\n",
    "    elif opcion == \"5\":\n",
    "        print(\"Programa finalizado.\")\n",
    "        break\n",
    "\n",
    "    else:\n",
    "        print(\"\\nIngrese una opcion valida.\")\n",
    "        continue\n",
    "\n",
    "\n",
    "print(tarjeta_personal)\n",
    "\n",
    "\n",
    "\n",
    "\n"
   ]
  },
  {
   "cell_type": "code",
   "execution_count": null,
   "id": "4b6b102f",
   "metadata": {},
   "outputs": [
    {
     "name": "stdout",
     "output_type": "stream",
     "text": [
      "('nombre,', 'rod')\n",
      "('apellido', 'esc')\n",
      "('profesion', 'mecha')\n",
      "('telefono', 'tretre')\n",
      "('Empresa', 'Penguin')\n",
      "nombre,\n",
      "rod\n",
      "apellido\n",
      "esc\n",
      "profesion\n",
      "mecha\n",
      "telefono\n",
      "tretre\n",
      "Empresa\n",
      "Penguin\n"
     ]
    }
   ],
   "source": [
    "for i in tarjeta_personal.items():              # ACCEDE AL ITEM, A CADA UNO\n",
    "    print(i)                                    # Y LO IMPRIME COMO TAL\n",
    "for clave, valor in tarjeta_personal.items():   # ACCEDE ITERANDO CADA PARTE ESPECIFICADA\n",
    "    print(clave)                                # IMPRIME CADA PARTE SOLICITADA"
   ]
  },
  {
   "cell_type": "markdown",
   "id": "69fe023f",
   "metadata": {},
   "source": [
    "Crear una agenda de contactos. El usuario puede elegir:\n",
    "\n",
    "Mostrar los contactos\n",
    "Crear contacto\n",
    "Modificar datos del contacto"
   ]
  },
  {
   "cell_type": "markdown",
   "id": "2d452fcf",
   "metadata": {},
   "source": [
    "PSEUDO CODIGO:\n",
    "\n",
    "PREMISAS:\n",
    "El diccionario debe contener otros diccionarios, llamados, contacton.\n",
    "El usuario debe poder MOSTRAR, CREAR y MODIFICAR contactos\n",
    "\n",
    "CREAR AGENDA vacia\n",
    "CREAR var con contactos de prueba\n",
    "\n",
    "PARA cada contacto en contactos:\n",
    "    agregar contacto a AGENDA\n",
    "\n",
    "MIENTRAS el programa este activo:\n",
    "    MOSTRAR opciones al usuario [ver contactos, crear contacto, modificar contacto, modificar datos del contacto, eliminar contacto, salir ]\n",
    "    PEDIR al usuario que seleccione una opcion de accion [1-5]\n",
    "    \n",
    "    SI elige VER\n",
    "        IMPRIMIR AGENDA\n"
   ]
  },
  {
   "cell_type": "code",
   "execution_count": 156,
   "id": "f8c6c48d",
   "metadata": {},
   "outputs": [
    {
     "name": "stdout",
     "output_type": "stream",
     "text": [
      "{'contacto1': 'rod', 'contacto2': 'jaz', 'contacto3': 'isa', 'contacto4': 'edu', 'contacto5': 'jaz'}\n",
      "dict_items([('contacto1', 'rod'), ('contacto2', 'jaz'), ('contacto3', 'isa'), ('contacto4', 'edu'), ('contacto5', 'jaz')])\n"
     ]
    }
   ],
   "source": [
    "agenda = {} # diccionario principal\n",
    "\n",
    "valores_agenda = []\n",
    "\n",
    "contactos = {} #diccionario para contactos\n",
    "\n",
    "claves_contactos = [1, 2, 3, 4, 5] #claves para CONTACTOS\n",
    "valores_contactos = [\"edu\", \"vazquez\", \"098090\", \"luque\"]   #VALORES para CONTACTOS\n",
    "\n",
    "# contactos = {}\n",
    "# campos = [\"\"nombre,\", \"apellido\", \"profesion\", \"telefono\"]\n",
    "\n",
    "# for campo in campos:\n",
    "#     valor_contacto = input(f\"Ingrese el dato para {campo}\")\n",
    "#     tarjeta_personal[campo] = valor\n",
    "\n",
    "for campos in claves_contactos:\n",
    "    contactos[\"contacto\" + f\"{campos}\"] = input(f\"Ingrese el nombre del contacto: \")\n",
    "    claves_agenda = contactos.items()\n",
    "\n",
    "\n",
    "print(contactos)\n",
    "print(claves_agenda)"
   ]
  },
  {
   "cell_type": "markdown",
   "id": "2803fb36",
   "metadata": {},
   "source": []
  },
  {
   "cell_type": "markdown",
   "id": "cc59a319",
   "metadata": {},
   "source": []
  }
 ],
 "metadata": {
  "kernelspec": {
   "display_name": ".venv",
   "language": "python",
   "name": "python3"
  },
  "language_info": {
   "codemirror_mode": {
    "name": "ipython",
    "version": 3
   },
   "file_extension": ".py",
   "mimetype": "text/x-python",
   "name": "python",
   "nbconvert_exporter": "python",
   "pygments_lexer": "ipython3",
   "version": "3.12.3"
  }
 },
 "nbformat": 4,
 "nbformat_minor": 5
}
