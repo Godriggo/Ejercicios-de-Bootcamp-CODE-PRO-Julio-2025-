{
 "cells": [
  {
   "cell_type": "code",
   "execution_count": null,
   "id": "2d0039cc",
   "metadata": {},
   "outputs": [
    {
     "name": "stdout",
     "output_type": "stream",
     "text": [
      "word\n"
     ]
    }
   ],
   "source": [
    "#EJERCICIO 1\n",
    "\n",
    "# Crea una funcion que imprima la variable palabra\n",
    "\n",
    "def mostrar_algo(): #esta es una funcion\n",
    "    palabra = \"word\"\n",
    "    print(palabra)\n",
    "mostrar_algo()\n",
    "\n",
    "def imprimir():\n",
    "    "
   ]
  },
  {
   "cell_type": "code",
   "execution_count": null,
   "id": "51eab8ec",
   "metadata": {},
   "outputs": [],
   "source": [
    "#EJERCICIO 2\n",
    "\n",
    "# Crear una función que reciba dos letras (parámetros) y que verifique si son iguales:\n",
    "\n",
    "# Si son iguales, imprimir \"Las letras son iguales\".\n",
    "\n",
    "# De lo contrario, imprimir \"Las letras son diferentes\".\n",
    "\n",
    "\n",
    "\n",
    "def comparacion(letra1, letra2):\n",
    "    \n",
    "    if letra1 == letra2:\n",
    "        print(\"Las letras son iguales\")\n",
    "    else:\n",
    "        print(\"Las letras son diferentes\")\n",
    "\n",
    "comparacion(letra1 = input(\"Ingrese la primera letra\"), letra2 = input(\"Ingrese la segunda letra\"))"
   ]
  },
  {
   "cell_type": "code",
   "execution_count": 20,
   "id": "38014816",
   "metadata": {},
   "outputs": [
    {
     "name": "stdout",
     "output_type": "stream",
     "text": [
      "123\n"
     ]
    }
   ],
   "source": [
    "def palabras_coinciden(palabra1, palabra2):\n",
    "    coincidencia = palabra1 == palabra2\n",
    "    \n",
    "    if coincidencia:\n",
    "        return 123\n",
    "    else:\n",
    "        return \"Holaaa\"\n",
    "\n",
    "para_impresion = palabras_coinciden(\"arbol\", \"arbol\")\n",
    "\n",
    "print(para_impresion)"
   ]
  },
  {
   "cell_type": "code",
   "execution_count": 28,
   "id": "89cac52d",
   "metadata": {},
   "outputs": [
    {
     "name": "stdout",
     "output_type": "stream",
     "text": [
      "True\n",
      "hola   y   4\n",
      "La longitud de la palabra coincide con el numero?\n"
     ]
    }
   ],
   "source": [
    "#EJERCICIO 3\n",
    "\n",
    "# Crear una función que reciba dos parámetros (una palabra y un número), y que retorne True si el número es igual a la cantidad de letras de la palabra. En caso contrario, que retorne False.\n",
    "\n",
    "# Pista: cantidad de letras de una palabra en python\n",
    "\n",
    "\n",
    "\n",
    "def comparar(palabra, numero):\n",
    "    es_o_no = len(palabra) == numero\n",
    "    if es_o_no:\n",
    "        return es_o_no\n",
    "    else:\n",
    "        return es_o_no\n",
    "\n",
    "palabra = input(\"Ingrese una palabra\")\n",
    "numero = int(input(\"ingrese un numero\"))\n",
    "print(comparar(palabra, numero))\n",
    "print(palabra, \" \", \"y\", \" \", numero)\n",
    "print(\"La longitud de la palabra coincide con el numero?\")\n",
    "    "
   ]
  },
  {
   "cell_type": "code",
   "execution_count": null,
   "id": "29254262",
   "metadata": {},
   "outputs": [
    {
     "name": "stdout",
     "output_type": "stream",
     "text": [
      "[['u', 'n', 'o']]\n",
      "[['u', 'n', 'o'], ['d', 'o', 's']]\n",
      "[['u', 'n', 'o'], ['d', 'o', 's'], ['t', 'r', 'e', 's']]\n"
     ]
    }
   ],
   "source": [
    "# EJERCICIO 4\n",
    "\n",
    "# Pedir al usuario que ingrese 1 palabra, luego convertir esa palabra a una lista con sus caracteres con list(). Agregar esa lista de caracteres a una lista\n",
    "# llamada palabras_ingresadas.\n",
    "# Repetir el proceso 3 veces. Cada vez que se agregue una lista de caracteres, imprimir la lista palabras_ingresadas.\n",
    "\n",
    "\n",
    "# Ejemplo del resultado esperado:\n",
    "\n",
    "# [['c', 'i', 'e', 'l', 'o']]\n",
    "# Al ingresar la primera palabra\n",
    "\n",
    "# [['c', 'i', 'e', 'l', 'o'], ['c', 'a', 'l', 'o', 'r']]\n",
    "# Al ingresar la segunda palabra\n",
    "\n",
    "# [['c', 'i', 'e', 'l', 'o'], ['c', 'a', 'l', 'o', 'r'], ['n', 'u', 'b', 'e', 's']]\n",
    " # Al ingresar la tercera palabra\n"
   ]
  },
  {
   "cell_type": "markdown",
   "id": "efeeeff9",
   "metadata": {},
   "source": [
    "PSEUDO CODIGO:\n",
    "\n",
    "Etapas:\n",
    "1. Pedir al usuario 1 palabra\n",
    "2. Convertir esa palabra en una lista con sus caracteres\n",
    "3. Agregar la lista a una lista llamada palabras_ingresadas, imprimir la lista\n",
    "4. Repetir el proceso 3 veces\n",
    "\n",
    "Podria ser:\n",
    "\n",
    "1. palabra = input(\"Ingrese la primera palabra\")\n",
    "2. palabra_enlistada = list(palabra)\n",
    "3. palabras_ingresadas.append(palabra_enlistada)\n",
    "3. print(palabras_ingresadas) --> declarar previamente inicializada (vacia)\n",
    "\n",
    "4. for i in range(3)  --> SIEMPRE QUE LA CANTIDAD DE VECES A REPETIRSE ES CONOCIDA, SE USA UN CICLO FOR.        else, UN CICLO WHILE\n",
    "    (1 - 3)"
   ]
  },
  {
   "cell_type": "code",
   "execution_count": null,
   "id": "a64679cb",
   "metadata": {},
   "outputs": [
    {
     "name": "stdout",
     "output_type": "stream",
     "text": [
      "[[]]\n",
      "[[], []]\n",
      "[[], [], []]\n"
     ]
    }
   ],
   "source": [
    "\n",
    "        # palabra1 = input(\"Ingrese la primera palabra\")\n",
    "        # palabra1_enlistada = list(palabra1)\n",
    "        # palabras_ingresadas.append(palabra1_enlistada)\n",
    "        # print(palabras_ingresadas)\n",
    "\n",
    "        # palabra2 = input(\"Ingrese la segunda palabra\")\n",
    "        # palabra2_enlistada = list(palabra2)\n",
    "        # palabras_ingresadas.append(palabra2_enlistada)\n",
    "        # print(palabras_ingresadas)\n",
    "\n",
    "        # palabra3 = input(\"Ingrese la tercera palabra\")\n",
    "        # palabra3_enlistada = list(palabra3)\n",
    "        # palabras_ingresadas.append(palabra3_enlistada)\n",
    "        # print(palabras_ingresadas)\n",
    "\n",
    "palabras_ingresadas = []\n",
    "\n",
    "for cantidad in range(3):\n",
    "    \n",
    "    palabra = input(\"Ingrese una palabra\")\n",
    "    \n",
    "    palabra_enlistada = list(palabra)\n",
    "    \n",
    "    palabras_ingresadas.append(palabra_enlistada)\n",
    "    \n",
    "    print(palabras_ingresadas)\n",
    "\n",
    "# cantidad = 0\n",
    "# while cantidad < 3:\n",
    "#    palabra = input(\"Ingrese la primera palabra\")\n",
    "#    palabra_enlistada = list(palabra)\n",
    "#    palabras_ingresadas.append(palabra_enlistada)\n",
    "\n",
    "#    print(palabras_ingresadas)\n",
    "#    cantidad += 1"
   ]
  },
  {
   "cell_type": "code",
   "execution_count": 98,
   "id": "c4e6a428",
   "metadata": {},
   "outputs": [
    {
     "name": "stdout",
     "output_type": "stream",
     "text": [
      "['u', 'n', 'o']\n",
      "['d', 'o', 's']\n"
     ]
    }
   ],
   "source": [
    "# 1. crear una funcion que imprima una grilla (lista de listas), 1 linea por cada lista dentro de la grilla\n",
    "# EJEMPLO DE LISTA: lista = [['h', 'o', 'l', 'i', 's'], ['h', 'e', 'l', 'l', 'o'], ['h', 'a', 'l', 'l', 'o']]\n",
    "\n",
    "\n",
    "lista = []\n",
    "\n",
    "cantidad = int(input(\"Cuantas palabras desea ingresar?\"))\n",
    "\n",
    "for i in range(cantidad):\n",
    "    \n",
    "\n",
    "    palabra = input(\"Ingrese una palabra\")\n",
    "    lista.append(list(palabra))\n",
    "\n",
    "for elemento in lista:\n",
    "    print(elemento)\n"
   ]
  },
  {
   "cell_type": "code",
   "execution_count": 1,
   "id": "84f50fae",
   "metadata": {},
   "outputs": [
    {
     "name": "stdout",
     "output_type": "stream",
     "text": [
      "[['h', 'o', 'l', 'i', 's'], ['h', 'e', 'l', 'l', 'o'], ['h', 'a', 'l', 'l', 'o']]\n",
      "['h', 'o', 'l', 'i', 's']\n",
      "['h', 'e', 'l', 'l', 'o']\n",
      "['h', 'a', 'l', 'l', 'o']\n"
     ]
    }
   ],
   "source": [
    "palabra1 = \"holis\"\n",
    "palabra2 = \"hello\"\n",
    "palabra3 = \"hallo\"\n",
    "\n",
    "lista = [list(palabra1), list(palabra2), list(palabra3)]\n",
    "\n",
    "print(lista)\n",
    "\n",
    "def grilla():\n",
    "    \n",
    "    for elemento in lista:\n",
    "        print(elemento)\n",
    "\n",
    "grilla()"
   ]
  },
  {
   "cell_type": "markdown",
   "id": "2f89a7a5",
   "metadata": {},
   "source": [
    "def "
   ]
  },
  {
   "cell_type": "code",
   "execution_count": null,
   "id": "ddcb9d4e",
   "metadata": {},
   "outputs": [],
   "source": []
  }
 ],
 "metadata": {
  "kernelspec": {
   "display_name": ".venv",
   "language": "python",
   "name": "python3"
  },
  "language_info": {
   "codemirror_mode": {
    "name": "ipython",
    "version": 3
   },
   "file_extension": ".py",
   "mimetype": "text/x-python",
   "name": "python",
   "nbconvert_exporter": "python",
   "pygments_lexer": "ipython3",
   "version": "3.12.3"
  }
 },
 "nbformat": 4,
 "nbformat_minor": 5
}
