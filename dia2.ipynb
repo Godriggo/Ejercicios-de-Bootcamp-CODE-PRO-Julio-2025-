{
 "cells": [
  {
   "cell_type": "code",
   "execution_count": 22,
   "id": "1d925834",
   "metadata": {},
   "outputs": [
    {
     "name": "stdout",
     "output_type": "stream",
     "text": [
      "Juguito nomas\n"
     ]
    }
   ],
   "source": [
    "#EJERCICIO 1\n",
    "# Escribe un programa que pregunte al usuario por su edad y determine si tiene edad suficiente para comprar y consumir alcohol.\n",
    "# Si el usuario tiene mas de 18 pero menos de 21 impirmir \"Podes tomar pero no comprar\"\n",
    "# Si el usuario tiene menos de 18 imprimir \"Juguito nomas\"\n",
    "# Si el usuario tiene mas de 21 imprimir \"Hace lo que quieras\"\n",
    "\n",
    "# def consulta_edad(edad):\n",
    "#   if edad > 18 and edad < 21:\n",
    "#      print(\"Podes tomar pero no comprar\")\n",
    "# elif edad =< 18:\n",
    "#    print(\"Juguito nomas\")\n",
    "# else:\n",
    "#    print(\"hace lo que quieras\")\n",
    "\n",
    "# edad = int(input(\"ingrese su edad\"))\n",
    "\n",
    "# consulta_edad(edad)\n",
    "\n",
    "def consulta_edad(edad): #esta bien, pero deberia atenerme a los datos del enunciado, e.g. 18 y 21\n",
    "    if edad < 19:\n",
    "        print(\"Juguito nomas\")\n",
    "    elif edad > 21:\n",
    "        print(\"Hace lo que quieras\")\n",
    "    else:\n",
    "        print(\"Podes tomar pero no comprar\")\n",
    "\n",
    "edad = int(input(\"Ingrese su edad: \"))\n",
    "\n",
    "consulta_edad(edad)"
   ]
  },
  {
   "cell_type": "code",
   "execution_count": null,
   "id": "b53ee708",
   "metadata": {},
   "outputs": [],
   "source": [
    "# EJERCICIO 2\n",
    "\n",
    "# Escribir un programa en el que se pregunte al usuario por una temperatura (en grados Celsius), imprima la temperatura escrita, y luego clasificar la temperatura ingresada en los siguientes niveles:\n",
    "\n",
    "# Entre -10 y 18 grados, que imprima \"Fresquete\".\n",
    "# Entre 19 y 30 grados, que imprima \"Calor'i\".\n",
    "# Entre 31 y 45 grados, que imprima \"Hakuuuuuu\".\n",
    "# Para todo lo demás, imprimir \"Ñamano mba'e!\".\n",
    "\n",
    "def confort():\n",
    "\n",
    "    temperatura = int(input(\"Ingrese la temperatura actual en grados Celsius: \"))\n",
    "\n",
    "    print(f\"La temperatura es de {temperatura} grados Celsius\")\n",
    "    \n",
    "    if temperatura >= -10 and temperatura <= 18:\n",
    "        print(\"Fresquete\")\n",
    "\n",
    "    elif temperatura > 18 and temperatura <= 30:\n",
    "        print(\"Calor'i\")\n",
    "\n",
    "    elif temperatura > 30 and temperatura <= 45:\n",
    "        print(\"Hakuuuuu\")\n",
    "\n",
    "    else:\n",
    "        print(\"Nhamano mba'e!\")\n",
    "\n",
    "        \n",
    "# temperatura = int(input(\"Ingrese la temperatura actual en grados Celsius: \")) Al llamar a la funcion, no se reinicia temperatura\n",
    "# print(f\"La temperatura es de {temperatura} grados Celsius\") Al llamar a la funcion, se excluye la impresion\n",
    "\n",
    "confort()\n",
    "confort()\n"
   ]
  },
  {
   "cell_type": "code",
   "execution_count": null,
   "id": "769bebac",
   "metadata": {},
   "outputs": [],
   "source": [
    "# EJERCICIO 3\n",
    "\n",
    "# Escribir un programa que almacene una contraseña en una variable, y pregunte al usuario por la contraseña hasta que introduzca la contraseña correcta.\n",
    "# Cuando el usuario ingrese la contrasena correcta, imprimir un mensaje secreto.\n",
    "\n",
    "contraseña = 4567\n",
    "\n",
    "print(\"Ingrese una secuencia de 4 numeros, dentro del rango 0-9\")\n",
    "secuencia = int(input(\"Ingrese la contraseña: \"))\n",
    "\n",
    "while contraseña != secuencia:\n",
    "    \n",
    "    print(\"Contraseña incorrecta, intente nuevamente\")\n",
    "    secuencia = int(input(\"Ingrese la contraseña: \"))\n",
    "    \n",
    "\n",
    "print(f\"La contraseña es correcta: {contraseña}\")\n",
    "\n"
   ]
  },
  {
   "cell_type": "code",
   "execution_count": 64,
   "id": "3af82e78",
   "metadata": {
    "vscode": {
     "languageId": "ruby"
    }
   },
   "outputs": [
    {
     "name": "stdout",
     "output_type": "stream",
     "text": [
      "['remera', 'camisa', 'jeans', 'medias', 'corbata']\n",
      "['remera', 'camisa', 'jeans', 'medias', 'corbata', 'calzones']\n",
      "['remera', 'camisilla', 'jeans', 'medias', 'corbata', 'calzones']\n",
      "['remera', 'camisilla', 'medias', 'corbata', 'calzones']\n"
     ]
    }
   ],
   "source": [
    "# EJERCICIO 4\n",
    "\n",
    "# Crear una lista de 5 elementos. Luego, seguir los siguientes pasos.\n",
    "# #1 Agregar un elemento al final de la lista.\n",
    "# #2 Modificar el segundo elemento.\n",
    "# #3 Eliminar el tercer elemento\n",
    "\n",
    "\n",
    "ropas = [\"remera\", \"camisa\", \"jeans\", \"medias\", \"corbata\"]\n",
    "print(ropas)\n",
    "\n",
    "#1 agregar un elemento\n",
    "ropas.append(\"calzones\")\n",
    "print(ropas)\n",
    "\n",
    "#2 modificar el 2o elemento\n",
    "ropas[1] = \"camisilla\"\n",
    "print(ropas)\n",
    "\n",
    "#3 eliminar el 3o elemento\n",
    "ropas.pop(2)\n",
    "print(ropas)\n",
    "\n"
   ]
  },
  {
   "cell_type": "code",
   "execution_count": 68,
   "id": "8a49ca13",
   "metadata": {
    "vscode": {
     "languageId": "ruby"
    }
   },
   "outputs": [
    {
     "name": "stdout",
     "output_type": "stream",
     "text": [
      "0\n",
      "2\n",
      "4\n",
      "6\n",
      "8\n",
      "10\n",
      "12\n",
      "14\n",
      "16\n",
      "18\n"
     ]
    }
   ],
   "source": [
    "# EJERCICIO 5\n",
    "# Escribir un programa que itere en un rango de 10 veces. Por cada iteracion multiplicar el iterador por dos e imprimir el resultado.\n",
    "\n",
    "for i in range(10):\n",
    "    print(i * 2)"
   ]
  },
  {
   "cell_type": "code",
   "execution_count": 75,
   "id": "8e46ed65",
   "metadata": {
    "vscode": {
     "languageId": "ruby"
    }
   },
   "outputs": [
    {
     "name": "stdout",
     "output_type": "stream",
     "text": [
      "Adidas\n",
      "Champion\n",
      "Reebok\n",
      "Tommy Hilfiger\n",
      "Everlast\n",
      "Jordan\n",
      "Godsake\n"
     ]
    }
   ],
   "source": [
    "# EJERCICIO 6\n",
    "# Recorrer los elementos de una lista de marcas e imprimir cada marca solamente si tiene 6 letras o mas\n",
    "\n",
    "marcas = [\"Adidas\", \"Puma\", \"Nike\", \"Champion\", \"Reebok\", \"Tommy Hilfiger\", \"Everlast\", \"Jordan\", \"Godsake\"]\n",
    "\n",
    "for marca in marcas:\n",
    "    if len(marca) >= 6: #len() devuelve la longitud del valor de una variable\n",
    "        print(marca)\n"
   ]
  },
  {
   "cell_type": "code",
   "execution_count": 90,
   "id": "0a207d34",
   "metadata": {
    "vscode": {
     "languageId": "ruby"
    }
   },
   "outputs": [
    {
     "name": "stdout",
     "output_type": "stream",
     "text": [
      "Ingrese una frase:\n",
      "Bienvenidos a Orlando, reclutas!\n",
      "HAS USADO LA O\n",
      "HAS USADO LA O\n",
      "HAS USADO LA O\n",
      "Existen 3 veces O en esta frase\n"
     ]
    }
   ],
   "source": [
    "#\n",
    "print(\"Ingrese una frase:\")\n",
    "frase = input()\n",
    "veces = 0\n",
    "\n",
    "print(frase)\n",
    "\n",
    "for letra in frase:\n",
    "\n",
    "    if letra == \"o\" or letra == \"O\":\n",
    "        veces = veces + 1\n",
    "        \n",
    "        print(f\"HAS USADO LA O\")\n",
    "\n",
    "print(f\"Existen {veces} veces O en esta frase\")"
   ]
  },
  {
   "cell_type": "code",
   "execution_count": null,
   "id": "2272a560",
   "metadata": {
    "vscode": {
     "languageId": "ruby"
    }
   },
   "outputs": [],
   "source": []
  }
 ],
 "metadata": {
  "kernelspec": {
   "display_name": "Python 3",
   "language": "python",
   "name": "python3"
  },
  "language_info": {
   "codemirror_mode": {
    "name": "ipython",
    "version": 3
   },
   "file_extension": ".py",
   "mimetype": "text/x-python",
   "name": "python",
   "nbconvert_exporter": "python",
   "pygments_lexer": "ipython3",
   "version": "3.12.3"
  }
 },
 "nbformat": 4,
 "nbformat_minor": 5
}
